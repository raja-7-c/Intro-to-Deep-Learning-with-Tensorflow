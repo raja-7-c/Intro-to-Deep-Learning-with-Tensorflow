{
  "nbformat": 4,
  "nbformat_minor": 0,
  "metadata": {
    "accelerator": "GPU",
    "colab": {
      "name": "l10c04_nlp_optimizing_the_text_generation_model.ipynb",
      "provenance": [],
      "collapsed_sections": [],
      "toc_visible": true
    },
    "kernelspec": {
      "display_name": "Python 3",
      "name": "python3"
    }
  },
  "cells": [
    {
      "cell_type": "markdown",
      "metadata": {
        "id": "punL79CN7Ox6"
      },
      "source": [
        "##### Copyright 2020 The TensorFlow Authors."
      ]
    },
    {
      "cell_type": "code",
      "metadata": {
        "cellView": "form",
        "id": "_ckMIh7O7s6D"
      },
      "source": [
        "#@title Licensed under the Apache License, Version 2.0 (the \"License\");\n",
        "# you may not use this file except in compliance with the License.\n",
        "# You may obtain a copy of the License at\n",
        "#\n",
        "# https://www.apache.org/licenses/LICENSE-2.0\n",
        "#\n",
        "# Unless required by applicable law or agreed to in writing, software\n",
        "# distributed under the License is distributed on an \"AS IS\" BASIS,\n",
        "# WITHOUT WARRANTIES OR CONDITIONS OF ANY KIND, either express or implied.\n",
        "# See the License for the specific language governing permissions and\n",
        "# limitations under the License."
      ],
      "execution_count": 1,
      "outputs": []
    },
    {
      "cell_type": "markdown",
      "metadata": {
        "id": "Ph5eir3Pf-3z"
      },
      "source": [
        "# Optimizing the Text Generation Model"
      ]
    },
    {
      "cell_type": "markdown",
      "metadata": {
        "id": "S5Uhzt6vVIB2"
      },
      "source": [
        "<table class=\"tfo-notebook-buttons\" align=\"left\">\n",
        "  <td>\n",
        "    <a target=\"_blank\" href=\"https://colab.research.google.com/github/tensorflow/examples/blob/master/courses/udacity_intro_to_tensorflow_for_deep_learning/l10c04_nlp_optimizing_the_text_generation_model.ipynb\"><img src=\"https://www.tensorflow.org/images/colab_logo_32px.png\" />Run in Google Colab</a>\n",
        "  </td>\n",
        "  <td>\n",
        "    <a target=\"_blank\" href=\"https://github.com/tensorflow/examples/blob/master/courses/udacity_intro_to_tensorflow_for_deep_learning/l10c04_nlp_optimizing_the_text_generation_model.ipynb\"><img src=\"https://www.tensorflow.org/images/GitHub-Mark-32px.png\" />View source on GitHub</a>\n",
        "  </td>\n",
        "</table>"
      ]
    },
    {
      "cell_type": "markdown",
      "metadata": {
        "id": "dCxhW3mtLmfb"
      },
      "source": [
        "You've already done some amazing work with generating new songs, but so far we've seen some issues with repetition and a fair amount of incoherence. By using more data and further tweaking the model, you'll be able to get improved results. We'll once again use the [Kaggle Song Lyrics Dataset](https://www.kaggle.com/mousehead/songlyrics) here."
      ]
    },
    {
      "cell_type": "markdown",
      "metadata": {
        "id": "4aHK2CYygXom"
      },
      "source": [
        "## Import TensorFlow and related functions"
      ]
    },
    {
      "cell_type": "code",
      "metadata": {
        "id": "2LmLTREBf5ng"
      },
      "source": [
        "import tensorflow as tf\n",
        "\n",
        "from tensorflow.keras.preprocessing.text import Tokenizer\n",
        "from tensorflow.keras.preprocessing.sequence import pad_sequences\n",
        "\n",
        "# Other imports for processing data\n",
        "import string\n",
        "import numpy as np\n",
        "import pandas as pd"
      ],
      "execution_count": 2,
      "outputs": []
    },
    {
      "cell_type": "markdown",
      "metadata": {
        "id": "GmLTO_dpgge9"
      },
      "source": [
        "## Get the Dataset\n",
        "\n",
        "As noted above, we'll utilize the [Song Lyrics dataset](https://www.kaggle.com/mousehead/songlyrics) on Kaggle again."
      ]
    },
    {
      "cell_type": "code",
      "metadata": {
        "id": "4Bf5FVHfganK",
        "outputId": "25dd5806-2b8d-4e79-c2cf-202b0601bb59",
        "colab": {
          "base_uri": "https://localhost:8080/"
        }
      },
      "source": [
        "!wget --no-check-certificate \\\n",
        "    https://drive.google.com/uc?id=1LiJFZd41ofrWoBtW-pMYsfz1w8Ny0Bj8 \\\n",
        "    -O /tmp/songdata.csv"
      ],
      "execution_count": 3,
      "outputs": [
        {
          "output_type": "stream",
          "text": [
            "--2021-07-01 05:02:42--  https://drive.google.com/uc?id=1LiJFZd41ofrWoBtW-pMYsfz1w8Ny0Bj8\n",
            "Resolving drive.google.com (drive.google.com)... 172.217.2.110, 2607:f8b0:4004:836::200e\n",
            "Connecting to drive.google.com (drive.google.com)|172.217.2.110|:443... connected.\n",
            "HTTP request sent, awaiting response... 302 Moved Temporarily\n",
            "Location: https://doc-04-ak-docs.googleusercontent.com/docs/securesc/ha0ro937gcuc7l7deffksulhg5h7mbp1/p34bpmc55mikllt95mm5tieqt0a8jl76/1625115750000/11118900490791463723/*/1LiJFZd41ofrWoBtW-pMYsfz1w8Ny0Bj8 [following]\n",
            "Warning: wildcards not supported in HTTP.\n",
            "--2021-07-01 05:02:45--  https://doc-04-ak-docs.googleusercontent.com/docs/securesc/ha0ro937gcuc7l7deffksulhg5h7mbp1/p34bpmc55mikllt95mm5tieqt0a8jl76/1625115750000/11118900490791463723/*/1LiJFZd41ofrWoBtW-pMYsfz1w8Ny0Bj8\n",
            "Resolving doc-04-ak-docs.googleusercontent.com (doc-04-ak-docs.googleusercontent.com)... 172.217.13.65, 2607:f8b0:4004:808::2001\n",
            "Connecting to doc-04-ak-docs.googleusercontent.com (doc-04-ak-docs.googleusercontent.com)|172.217.13.65|:443... connected.\n",
            "HTTP request sent, awaiting response... 200 OK\n",
            "Length: unspecified [text/csv]\n",
            "Saving to: ‘/tmp/songdata.csv’\n",
            "\n",
            "/tmp/songdata.csv       [     <=>            ]  69.08M  62.6MB/s    in 1.1s    \n",
            "\n",
            "2021-07-01 05:02:46 (62.6 MB/s) - ‘/tmp/songdata.csv’ saved [72436445]\n",
            "\n"
          ],
          "name": "stdout"
        }
      ]
    },
    {
      "cell_type": "markdown",
      "metadata": {
        "id": "Jz9x-7dWihxx"
      },
      "source": [
        "## 250 Songs\n",
        "\n",
        "Now we've seen a model trained on just a small sample of songs, and how this often leads to repetition as you get further along in trying to generate new text. Let's switch to using the 250 songs instead, and see if our output improves. This will actually be nearly 10K lines of lyrics, which should be sufficient.\n",
        "\n",
        "Note that we won't use the full dataset here as it will take up quite a bit of RAM and processing time, but you're welcome to try doing so on your own later. If interested, you'll likely want to use only some of the more common words for the Tokenizer, which will help shrink processing time and memory needed (or else you'd have an output array hundreds of thousands of words long)."
      ]
    },
    {
      "cell_type": "markdown",
      "metadata": {
        "id": "nWbMN_19jfRT"
      },
      "source": [
        "### Preprocessing"
      ]
    },
    {
      "cell_type": "code",
      "metadata": {
        "id": "LRmPPJegovBe"
      },
      "source": [
        "def tokenize_corpus(corpus, num_words=-1):\n",
        "  # Fit a Tokenizer on the corpus\n",
        "  if num_words > -1:\n",
        "    tokenizer = Tokenizer(num_words=num_words)\n",
        "  else:\n",
        "    tokenizer = Tokenizer()\n",
        "  tokenizer.fit_on_texts(corpus)\n",
        "  return tokenizer\n",
        "\n",
        "def create_lyrics_corpus(dataset, field):\n",
        "  # Remove all other punctuation\n",
        "  dataset[field] = dataset[field].str.replace('[{}]'.format(string.punctuation), '')\n",
        "  # Make it lowercase\n",
        "  dataset[field] = dataset[field].str.lower()\n",
        "  # Make it one long string to split by line\n",
        "  lyrics = dataset[field].str.cat()\n",
        "  corpus = lyrics.split('\\n')\n",
        "  # Remove any trailing whitespace\n",
        "  for l in range(len(corpus)):\n",
        "    corpus[l] = corpus[l].rstrip()\n",
        "  # Remove any empty lines\n",
        "  corpus = [l for l in corpus if l != '']\n",
        "\n",
        "  return corpus"
      ],
      "execution_count": 4,
      "outputs": []
    },
    {
      "cell_type": "code",
      "metadata": {
        "id": "kIGedF3XjHj4",
        "outputId": "f52d0137-d99b-4ea1-cd13-d1256efa9384",
        "colab": {
          "base_uri": "https://localhost:8080/"
        }
      },
      "source": [
        "def tokenize_corpus(corpus, num_words=-1):\n",
        "  # Fit a Tokenizer on the corpus\n",
        "  if num_words > -1:\n",
        "    tokenizer = Tokenizer(num_words=num_words)\n",
        "  else:\n",
        "    tokenizer = Tokenizer()\n",
        "  tokenizer.fit_on_texts(corpus)\n",
        "  return tokenizer\n",
        "\n",
        "# Read the dataset from csv - this time with 250 songs\n",
        "dataset = pd.read_csv('/tmp/songdata.csv', dtype=str)[:250]\n",
        "# Create the corpus using the 'text' column containing lyrics\n",
        "corpus = create_lyrics_corpus(dataset, 'text')\n",
        "# Tokenize the corpus\n",
        "tokenizer = tokenize_corpus(corpus, num_words=2000)\n",
        "total_words = tokenizer.num_words\n",
        "\n",
        "# There should be a lot more words now\n",
        "print(total_words)"
      ],
      "execution_count": 5,
      "outputs": [
        {
          "output_type": "stream",
          "text": [
            "2000\n"
          ],
          "name": "stdout"
        },
        {
          "output_type": "stream",
          "text": [
            "/usr/local/lib/python3.7/dist-packages/ipykernel_launcher.py:12: SettingWithCopyWarning: \n",
            "A value is trying to be set on a copy of a slice from a DataFrame.\n",
            "Try using .loc[row_indexer,col_indexer] = value instead\n",
            "\n",
            "See the caveats in the documentation: https://pandas.pydata.org/pandas-docs/stable/user_guide/indexing.html#returning-a-view-versus-a-copy\n",
            "  if sys.path[0] == '':\n"
          ],
          "name": "stderr"
        }
      ]
    },
    {
      "cell_type": "markdown",
      "metadata": {
        "id": "quoDmw_FkNBA"
      },
      "source": [
        "### Create Sequences and Labels"
      ]
    },
    {
      "cell_type": "code",
      "metadata": {
        "id": "kkLAf3HmkPSo"
      },
      "source": [
        "sequences = []\n",
        "for line in corpus:\n",
        "\ttoken_list = tokenizer.texts_to_sequences([line])[0]\n",
        "\tfor i in range(1, len(token_list)):\n",
        "\t\tn_gram_sequence = token_list[:i+1]\n",
        "\t\tsequences.append(n_gram_sequence)\n",
        "\n",
        "# Pad sequences for equal input length \n",
        "max_sequence_len = max([len(seq) for seq in sequences])\n",
        "sequences = np.array(pad_sequences(sequences, maxlen=max_sequence_len, padding='pre'))\n",
        "\n",
        "# Split sequences between the \"input\" sequence and \"output\" predicted word\n",
        "input_sequences, labels = sequences[:,:-1], sequences[:,-1]\n",
        "# One-hot encode the labels\n",
        "one_hot_labels = tf.keras.utils.to_categorical(labels, num_classes=total_words)"
      ],
      "execution_count": 6,
      "outputs": []
    },
    {
      "cell_type": "markdown",
      "metadata": {
        "id": "cECbqT-blMk-"
      },
      "source": [
        "### Train a (Better) Text Generation Model\n",
        "\n",
        "With more data, we'll cut off after 100 epochs to avoid keeping you here all day. You'll also want to change your runtime type to GPU if you haven't already (you'll need to re-run the above cells if you change runtimes)."
      ]
    },
    {
      "cell_type": "code",
      "metadata": {
        "id": "7nHOp6uWlP_P",
        "outputId": "80d90f89-a434-46d1-a331-11824536b222",
        "colab": {
          "base_uri": "https://localhost:8080/"
        }
      },
      "source": [
        "from tensorflow.keras.models import Sequential\n",
        "from tensorflow.keras.layers import Embedding, LSTM, Dense, Bidirectional\n",
        "\n",
        "model = Sequential()\n",
        "model.add(Embedding(total_words, 64, input_length=max_sequence_len-1))\n",
        "model.add(Bidirectional(LSTM(20)))\n",
        "model.add(Dense(total_words, activation='softmax'))\n",
        "model.compile(loss='categorical_crossentropy', optimizer='adam', metrics=['accuracy'])\n",
        "history = model.fit(input_sequences, one_hot_labels, epochs=100, verbose=1)"
      ],
      "execution_count": 7,
      "outputs": [
        {
          "output_type": "stream",
          "text": [
            "Epoch 1/100\n",
            "1480/1480 [==============================] - 21s 8ms/step - loss: 5.9852 - accuracy: 0.0456\n",
            "Epoch 2/100\n",
            "1480/1480 [==============================] - 13s 9ms/step - loss: 5.6758 - accuracy: 0.0505\n",
            "Epoch 3/100\n",
            "1480/1480 [==============================] - 13s 8ms/step - loss: 5.4579 - accuracy: 0.0730\n",
            "Epoch 4/100\n",
            "1480/1480 [==============================] - 13s 9ms/step - loss: 5.2382 - accuracy: 0.1041\n",
            "Epoch 5/100\n",
            "1480/1480 [==============================] - 13s 8ms/step - loss: 5.0308 - accuracy: 0.1245\n",
            "Epoch 6/100\n",
            "1480/1480 [==============================] - 12s 8ms/step - loss: 4.8505 - accuracy: 0.1438\n",
            "Epoch 7/100\n",
            "1480/1480 [==============================] - 12s 8ms/step - loss: 4.6831 - accuracy: 0.1617\n",
            "Epoch 8/100\n",
            "1480/1480 [==============================] - 12s 8ms/step - loss: 4.5334 - accuracy: 0.1772\n",
            "Epoch 9/100\n",
            "1480/1480 [==============================] - 12s 8ms/step - loss: 4.4045 - accuracy: 0.1919\n",
            "Epoch 10/100\n",
            "1480/1480 [==============================] - 13s 9ms/step - loss: 4.2893 - accuracy: 0.2041\n",
            "Epoch 11/100\n",
            "1480/1480 [==============================] - 13s 8ms/step - loss: 4.1860 - accuracy: 0.2155\n",
            "Epoch 12/100\n",
            "1480/1480 [==============================] - 13s 9ms/step - loss: 4.0963 - accuracy: 0.2237\n",
            "Epoch 13/100\n",
            "1480/1480 [==============================] - 13s 8ms/step - loss: 4.0078 - accuracy: 0.2355\n",
            "Epoch 14/100\n",
            "1480/1480 [==============================] - 12s 8ms/step - loss: 3.9326 - accuracy: 0.2462\n",
            "Epoch 15/100\n",
            "1480/1480 [==============================] - 12s 8ms/step - loss: 3.8619 - accuracy: 0.2559\n",
            "Epoch 16/100\n",
            "1480/1480 [==============================] - 12s 8ms/step - loss: 3.7940 - accuracy: 0.2658\n",
            "Epoch 17/100\n",
            "1480/1480 [==============================] - 12s 8ms/step - loss: 3.7342 - accuracy: 0.2720\n",
            "Epoch 18/100\n",
            "1480/1480 [==============================] - 12s 8ms/step - loss: 3.6777 - accuracy: 0.2796\n",
            "Epoch 19/100\n",
            "1480/1480 [==============================] - 12s 8ms/step - loss: 3.6263 - accuracy: 0.2881\n",
            "Epoch 20/100\n",
            "1480/1480 [==============================] - 12s 8ms/step - loss: 3.5748 - accuracy: 0.2937\n",
            "Epoch 21/100\n",
            "1480/1480 [==============================] - 12s 8ms/step - loss: 3.5319 - accuracy: 0.2970\n",
            "Epoch 22/100\n",
            "1480/1480 [==============================] - 12s 8ms/step - loss: 3.4873 - accuracy: 0.3049\n",
            "Epoch 23/100\n",
            "1480/1480 [==============================] - 12s 8ms/step - loss: 3.4428 - accuracy: 0.3121\n",
            "Epoch 24/100\n",
            "1480/1480 [==============================] - 12s 8ms/step - loss: 3.4102 - accuracy: 0.3169\n",
            "Epoch 25/100\n",
            "1480/1480 [==============================] - 12s 8ms/step - loss: 3.3689 - accuracy: 0.3220\n",
            "Epoch 26/100\n",
            "1480/1480 [==============================] - 12s 8ms/step - loss: 3.3362 - accuracy: 0.3273\n",
            "Epoch 27/100\n",
            "1480/1480 [==============================] - 12s 8ms/step - loss: 3.3035 - accuracy: 0.3325\n",
            "Epoch 28/100\n",
            "1480/1480 [==============================] - 12s 8ms/step - loss: 3.2695 - accuracy: 0.3388\n",
            "Epoch 29/100\n",
            "1480/1480 [==============================] - 12s 8ms/step - loss: 3.2411 - accuracy: 0.3422\n",
            "Epoch 30/100\n",
            "1480/1480 [==============================] - 12s 8ms/step - loss: 3.2098 - accuracy: 0.3460\n",
            "Epoch 31/100\n",
            "1480/1480 [==============================] - 12s 8ms/step - loss: 3.1848 - accuracy: 0.3502\n",
            "Epoch 32/100\n",
            "1480/1480 [==============================] - 12s 8ms/step - loss: 3.1527 - accuracy: 0.3562\n",
            "Epoch 33/100\n",
            "1480/1480 [==============================] - 13s 9ms/step - loss: 3.1309 - accuracy: 0.3595\n",
            "Epoch 34/100\n",
            "1480/1480 [==============================] - 12s 8ms/step - loss: 3.1069 - accuracy: 0.3646\n",
            "Epoch 35/100\n",
            "1480/1480 [==============================] - 13s 9ms/step - loss: 3.0797 - accuracy: 0.3676\n",
            "Epoch 36/100\n",
            "1480/1480 [==============================] - 12s 8ms/step - loss: 3.0585 - accuracy: 0.3727\n",
            "Epoch 37/100\n",
            "1480/1480 [==============================] - 12s 8ms/step - loss: 3.0311 - accuracy: 0.3757\n",
            "Epoch 38/100\n",
            "1480/1480 [==============================] - 13s 8ms/step - loss: 3.0091 - accuracy: 0.3794\n",
            "Epoch 39/100\n",
            "1480/1480 [==============================] - 12s 8ms/step - loss: 2.9877 - accuracy: 0.3836\n",
            "Epoch 40/100\n",
            "1480/1480 [==============================] - 12s 8ms/step - loss: 2.9666 - accuracy: 0.3873\n",
            "Epoch 41/100\n",
            "1480/1480 [==============================] - 12s 8ms/step - loss: 2.9458 - accuracy: 0.3896\n",
            "Epoch 42/100\n",
            "1480/1480 [==============================] - 12s 8ms/step - loss: 2.9359 - accuracy: 0.3915\n",
            "Epoch 43/100\n",
            "1480/1480 [==============================] - 12s 8ms/step - loss: 2.9141 - accuracy: 0.3962\n",
            "Epoch 44/100\n",
            "1480/1480 [==============================] - 12s 8ms/step - loss: 2.8930 - accuracy: 0.4009\n",
            "Epoch 45/100\n",
            "1480/1480 [==============================] - 12s 8ms/step - loss: 2.8758 - accuracy: 0.4011\n",
            "Epoch 46/100\n",
            "1480/1480 [==============================] - 12s 8ms/step - loss: 2.8585 - accuracy: 0.4054\n",
            "Epoch 47/100\n",
            "1480/1480 [==============================] - 12s 8ms/step - loss: 2.8410 - accuracy: 0.4096\n",
            "Epoch 48/100\n",
            "1480/1480 [==============================] - 12s 8ms/step - loss: 2.8264 - accuracy: 0.4101\n",
            "Epoch 49/100\n",
            "1480/1480 [==============================] - 13s 8ms/step - loss: 2.8137 - accuracy: 0.4117\n",
            "Epoch 50/100\n",
            "1480/1480 [==============================] - 12s 8ms/step - loss: 2.7957 - accuracy: 0.4152\n",
            "Epoch 51/100\n",
            "1480/1480 [==============================] - 13s 8ms/step - loss: 2.7838 - accuracy: 0.4161\n",
            "Epoch 52/100\n",
            "1480/1480 [==============================] - 13s 9ms/step - loss: 2.7652 - accuracy: 0.4200\n",
            "Epoch 53/100\n",
            "1480/1480 [==============================] - 13s 9ms/step - loss: 2.7542 - accuracy: 0.4229\n",
            "Epoch 54/100\n",
            "1480/1480 [==============================] - 13s 9ms/step - loss: 2.7401 - accuracy: 0.4262\n",
            "Epoch 55/100\n",
            "1480/1480 [==============================] - 13s 9ms/step - loss: 2.7232 - accuracy: 0.4274\n",
            "Epoch 56/100\n",
            "1480/1480 [==============================] - 13s 9ms/step - loss: 2.7113 - accuracy: 0.4301\n",
            "Epoch 57/100\n",
            "1480/1480 [==============================] - 13s 9ms/step - loss: 2.6980 - accuracy: 0.4305\n",
            "Epoch 58/100\n",
            "1480/1480 [==============================] - 13s 8ms/step - loss: 2.6930 - accuracy: 0.4330\n",
            "Epoch 59/100\n",
            "1480/1480 [==============================] - 13s 9ms/step - loss: 2.6673 - accuracy: 0.4371\n",
            "Epoch 60/100\n",
            "1480/1480 [==============================] - 13s 9ms/step - loss: 2.6610 - accuracy: 0.4384\n",
            "Epoch 61/100\n",
            "1480/1480 [==============================] - 13s 8ms/step - loss: 2.6483 - accuracy: 0.4402\n",
            "Epoch 62/100\n",
            "1480/1480 [==============================] - 13s 9ms/step - loss: 2.6405 - accuracy: 0.4411\n",
            "Epoch 63/100\n",
            "1480/1480 [==============================] - 13s 9ms/step - loss: 2.6267 - accuracy: 0.4458\n",
            "Epoch 64/100\n",
            "1480/1480 [==============================] - 13s 9ms/step - loss: 2.6191 - accuracy: 0.4464\n",
            "Epoch 65/100\n",
            "1480/1480 [==============================] - 13s 9ms/step - loss: 2.6162 - accuracy: 0.4464\n",
            "Epoch 66/100\n",
            "1480/1480 [==============================] - 13s 9ms/step - loss: 2.5940 - accuracy: 0.4511\n",
            "Epoch 67/100\n",
            "1480/1480 [==============================] - 13s 9ms/step - loss: 2.5815 - accuracy: 0.4538\n",
            "Epoch 68/100\n",
            "1480/1480 [==============================] - 13s 9ms/step - loss: 2.5705 - accuracy: 0.4544\n",
            "Epoch 69/100\n",
            "1480/1480 [==============================] - 13s 9ms/step - loss: 2.5637 - accuracy: 0.4537\n",
            "Epoch 70/100\n",
            "1480/1480 [==============================] - 13s 9ms/step - loss: 2.5528 - accuracy: 0.4578\n",
            "Epoch 71/100\n",
            "1480/1480 [==============================] - 13s 9ms/step - loss: 2.5423 - accuracy: 0.4592\n",
            "Epoch 72/100\n",
            "1480/1480 [==============================] - 13s 9ms/step - loss: 2.5356 - accuracy: 0.4587\n",
            "Epoch 73/100\n",
            "1480/1480 [==============================] - 13s 9ms/step - loss: 2.5284 - accuracy: 0.4617\n",
            "Epoch 74/100\n",
            "1480/1480 [==============================] - 13s 9ms/step - loss: 2.5224 - accuracy: 0.4627\n",
            "Epoch 75/100\n",
            "1480/1480 [==============================] - 13s 9ms/step - loss: 2.5088 - accuracy: 0.4658\n",
            "Epoch 76/100\n",
            "1480/1480 [==============================] - 13s 9ms/step - loss: 2.4969 - accuracy: 0.4686\n",
            "Epoch 77/100\n",
            "1480/1480 [==============================] - 13s 9ms/step - loss: 2.4854 - accuracy: 0.4698\n",
            "Epoch 78/100\n",
            "1480/1480 [==============================] - 13s 9ms/step - loss: 2.4818 - accuracy: 0.4698\n",
            "Epoch 79/100\n",
            "1480/1480 [==============================] - 13s 9ms/step - loss: 2.4712 - accuracy: 0.4719\n",
            "Epoch 80/100\n",
            "1480/1480 [==============================] - 13s 9ms/step - loss: 2.4599 - accuracy: 0.4748\n",
            "Epoch 81/100\n",
            "1480/1480 [==============================] - 13s 9ms/step - loss: 2.4540 - accuracy: 0.4760\n",
            "Epoch 82/100\n",
            "1480/1480 [==============================] - 13s 9ms/step - loss: 2.4524 - accuracy: 0.4756\n",
            "Epoch 83/100\n",
            "1480/1480 [==============================] - 13s 8ms/step - loss: 2.4355 - accuracy: 0.4788\n",
            "Epoch 84/100\n",
            "1480/1480 [==============================] - 13s 9ms/step - loss: 2.4394 - accuracy: 0.4773\n",
            "Epoch 85/100\n",
            "1480/1480 [==============================] - 13s 9ms/step - loss: 2.4220 - accuracy: 0.4798\n",
            "Epoch 86/100\n",
            "1480/1480 [==============================] - 13s 9ms/step - loss: 2.4153 - accuracy: 0.4835\n",
            "Epoch 87/100\n",
            "1480/1480 [==============================] - 13s 8ms/step - loss: 2.4108 - accuracy: 0.4817\n",
            "Epoch 88/100\n",
            "1480/1480 [==============================] - 13s 8ms/step - loss: 2.4026 - accuracy: 0.4854\n",
            "Epoch 89/100\n",
            "1480/1480 [==============================] - 12s 8ms/step - loss: 2.3979 - accuracy: 0.4855\n",
            "Epoch 90/100\n",
            "1480/1480 [==============================] - 13s 8ms/step - loss: 2.3818 - accuracy: 0.4887\n",
            "Epoch 91/100\n",
            "1480/1480 [==============================] - 12s 8ms/step - loss: 2.3756 - accuracy: 0.4882\n",
            "Epoch 92/100\n",
            "1480/1480 [==============================] - 13s 8ms/step - loss: 2.3844 - accuracy: 0.4882\n",
            "Epoch 93/100\n",
            "1480/1480 [==============================] - 13s 9ms/step - loss: 2.3754 - accuracy: 0.4885\n",
            "Epoch 94/100\n",
            "1480/1480 [==============================] - 13s 9ms/step - loss: 2.3585 - accuracy: 0.4910\n",
            "Epoch 95/100\n",
            "1480/1480 [==============================] - 12s 8ms/step - loss: 2.3681 - accuracy: 0.4898\n",
            "Epoch 96/100\n",
            "1480/1480 [==============================] - 13s 9ms/step - loss: 2.3444 - accuracy: 0.4943\n",
            "Epoch 97/100\n",
            "1480/1480 [==============================] - 13s 8ms/step - loss: 2.3383 - accuracy: 0.4968\n",
            "Epoch 98/100\n",
            "1480/1480 [==============================] - 13s 9ms/step - loss: 2.3389 - accuracy: 0.4959\n",
            "Epoch 99/100\n",
            "1480/1480 [==============================] - 13s 8ms/step - loss: 2.3324 - accuracy: 0.4965\n",
            "Epoch 100/100\n",
            "1480/1480 [==============================] - 13s 9ms/step - loss: 2.3393 - accuracy: 0.4941\n"
          ],
          "name": "stdout"
        }
      ]
    },
    {
      "cell_type": "markdown",
      "metadata": {
        "id": "MgvIz20nlQcq"
      },
      "source": [
        "### View the Training Graph"
      ]
    },
    {
      "cell_type": "code",
      "metadata": {
        "id": "rOqmmarvlSLh",
        "outputId": "76c69eb9-0192-4101-b272-5535ef8e7f1c",
        "colab": {
          "base_uri": "https://localhost:8080/",
          "height": 279
        }
      },
      "source": [
        "import matplotlib.pyplot as plt\n",
        "\n",
        "def plot_graphs(history, string):\n",
        "  plt.plot(history.history[string])\n",
        "  plt.xlabel(\"Epochs\")\n",
        "  plt.ylabel(string)\n",
        "  plt.show()\n",
        "\n",
        "plot_graphs(history, 'accuracy')"
      ],
      "execution_count": 8,
      "outputs": [
        {
          "output_type": "display_data",
          "data": {
            "image/png": "[encoded data removed]",
            "text/plain": [
              "<Figure size 432x288 with 1 Axes>"
            ]
          },
          "metadata": {
            "tags": [],
            "needs_background": "light"
          }
        }
      ]
    },
    {
      "cell_type": "markdown",
      "metadata": {
        "id": "ISLZZGlQlSxh"
      },
      "source": [
        "### Generate better lyrics!\n",
        "\n",
        "This time around, we should be able to get a more interesting output with less repetition."
      ]
    },
    {
      "cell_type": "code",
      "metadata": {
        "id": "P96oVMk3lU7y",
        "outputId": "ecedca13-d23d-4761-8838-fef093d4f47c",
        "colab": {
          "base_uri": "https://localhost:8080/"
        }
      },
      "source": [
        "seed_text = \"im feeling chills\"\n",
        "next_words = 100\n",
        "  \n",
        "for _ in range(next_words):\n",
        "\ttoken_list = tokenizer.texts_to_sequences([seed_text])[0]\n",
        "\ttoken_list = pad_sequences([token_list], maxlen=max_sequence_len-1, padding='pre')\n",
        "\tpredicted = np.argmax(model.predict(token_list), axis=-1)\n",
        "\toutput_word = \"\"\n",
        "\tfor word, index in tokenizer.word_index.items():\n",
        "\t\tif index == predicted:\n",
        "\t\t\toutput_word = word\n",
        "\t\t\tbreak\n",
        "\tseed_text += \" \" + output_word\n",
        "print(seed_text)"
      ],
      "execution_count": 9,
      "outputs": [
        {
          "output_type": "stream",
          "text": [
            "im feeling chills the devil are cold and been ground honey honey honey honey honey honey honey heh heh heh heh bale sin through somethings doll nights but but sometimes this isnt his voice everywhere would get it once before can go together all gonna have to make us grow people get along twist and songs of their finer blues darkness darkness darkness darkness darkness night darkness grind power local police war born local mirror loveland masters kin office song lights sense for ready for shape of livingstone together and of and growing god darkness dreadful house plague driving special drop figure office\n"
          ],
          "name": "stdout"
        }
      ]
    },
    {
      "cell_type": "markdown",
      "metadata": {
        "id": "upgJKV8_oRU9"
      },
      "source": [
        "### Varying the Possible Outputs\n",
        "\n",
        "In running the above, you may notice that the same seed text will generate similar outputs. This is because the code is currently always choosing the top predicted class as the next word. What if you wanted more variance in the output? \n",
        "\n",
        "Switching from `model.predict_classes` to `model.predict_proba` will get us all of the class probabilities. We can combine this with `np.random.choice` to select a given predicted output based on a probability, thereby giving a bit more randomness to our outputs."
      ]
    },
    {
      "cell_type": "code",
      "metadata": {
        "id": "lZe9gaJeoGVP",
        "outputId": "3b8b3a83-01f0-4840-8317-c63a84e43833",
        "colab": {
          "base_uri": "https://localhost:8080/"
        }
      },
      "source": [
        "# Test the method with just the first word after the seed text\n",
        "seed_text = \"im feeling chills\"\n",
        "next_words = 100\n",
        "  \n",
        "token_list = tokenizer.texts_to_sequences([seed_text])[0]\n",
        "token_list = pad_sequences([token_list], maxlen=max_sequence_len-1, padding='pre')\n",
        "predicted_probs = model.predict(token_list)[0]\n",
        "predicted = np.random.choice([x for x in range(len(predicted_probs))], \n",
        "                             p=predicted_probs)\n",
        "# Running this cell multiple times should get you some variance in output\n",
        "print(predicted)"
      ],
      "execution_count": 10,
      "outputs": [
        {
          "output_type": "stream",
          "text": [
            "1\n"
          ],
          "name": "stdout"
        }
      ]
    },
    {
      "cell_type": "code",
      "metadata": {
        "id": "ee7WKgRGrJy1",
        "outputId": "00472d76-deaf-4927-f7cc-e1c203d003ad",
        "colab": {
          "base_uri": "https://localhost:8080/"
        }
      },
      "source": [
        "# Use this process for the full output generation\n",
        "seed_text = \"im feeling chills\"\n",
        "next_words = 100\n",
        "  \n",
        "for _ in range(next_words):\n",
        "  token_list = tokenizer.texts_to_sequences([seed_text])[0]\n",
        "  token_list = pad_sequences([token_list], maxlen=max_sequence_len-1, padding='pre')\n",
        "  predicted_probs = model.predict(token_list)[0]\n",
        "  predicted = np.random.choice([x for x in range(len(predicted_probs))],\n",
        "                               p=predicted_probs)\n",
        "  output_word = \"\"\n",
        "  for word, index in tokenizer.word_index.items():\n",
        "    if index == predicted:\n",
        "      output_word = word\n",
        "      break\n",
        "  seed_text += \" \" + output_word\n",
        "print(seed_text)"
      ],
      "execution_count": 11,
      "outputs": [
        {
          "output_type": "stream",
          "text": [
            "im feeling chills me to my love but i understood them again much touch when youre near me in my window to me to only oh drop you see you is lovelight away dawn rides by all here is bittersweet just going leave me no visitors tonight and reeling crack i know an explanation or know it too im not take it look need hawaii right out drop year of love awake his back ball mans side magic strong a dream woke doublecross set jive flash case we the more you try tonight i have i think that you please care for you\n"
          ],
          "name": "stdout"
        }
      ]
    }
  ]
}